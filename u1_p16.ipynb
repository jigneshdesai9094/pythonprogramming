{
 "cells": [
  {
   "cell_type": "code",
   "execution_count": 8,
   "id": "a8081da3-f134-47d2-b126-6b48a328cb8f",
   "metadata": {},
   "outputs": [
    {
     "name": "stdout",
     "output_type": "stream",
     "text": [
      "10 20 30 40 50 60 70 80 90 100 \n",
      "\n",
      "10 20 30 40 50 60 70 80 90 100 "
     ]
    }
   ],
   "source": [
    "def recursively(l,x):\n",
    "    if(x<len(l)):\n",
    "      print(l[x],end=\" \")\n",
    "      x+=1\n",
    "      recursively(l,x)\n",
    "def recur(l):\n",
    "    if(l!=[]):\n",
    "        print(l[0],end=\" \")\n",
    "        recur(l[1:])\n",
    "        \n",
    "l=[10,20,30,40,50,60,70,80,90,100]\n",
    "recursively(l,0)\n",
    "print(\"\\n\")\n",
    "recur(l)"
   ]
  },
  {
   "cell_type": "code",
   "execution_count": null,
   "id": "f23bb4be-e211-4b83-92eb-f3864ddbe273",
   "metadata": {},
   "outputs": [],
   "source": []
  },
  {
   "cell_type": "code",
   "execution_count": null,
   "id": "70e5f1d2-2f3a-44d7-a348-1a96c60b2b68",
   "metadata": {},
   "outputs": [],
   "source": []
  },
  {
   "cell_type": "code",
   "execution_count": null,
   "id": "e56e7e32-9203-4f0e-a70c-4521d99e0f41",
   "metadata": {},
   "outputs": [],
   "source": []
  },
  {
   "cell_type": "code",
   "execution_count": null,
   "id": "672f6fc2-d2c5-4ebe-a6a4-2fbc10addc9e",
   "metadata": {},
   "outputs": [],
   "source": []
  },
  {
   "cell_type": "code",
   "execution_count": null,
   "id": "3a44fcaf-305f-4926-aca4-7afe3f24f8a7",
   "metadata": {},
   "outputs": [],
   "source": []
  },
  {
   "cell_type": "code",
   "execution_count": null,
   "id": "57c2e509-6ac9-460c-8fcc-4f7dc64d96d4",
   "metadata": {},
   "outputs": [],
   "source": []
  },
  {
   "cell_type": "code",
   "execution_count": null,
   "id": "2240d047-6af0-47b0-a800-dc5415c1c87c",
   "metadata": {},
   "outputs": [],
   "source": []
  }
 ],
 "metadata": {
  "kernelspec": {
   "display_name": "Python 3 (ipykernel)",
   "language": "python",
   "name": "python3"
  },
  "language_info": {
   "codemirror_mode": {
    "name": "ipython",
    "version": 3
   },
   "file_extension": ".py",
   "mimetype": "text/x-python",
   "name": "python",
   "nbconvert_exporter": "python",
   "pygments_lexer": "ipython3",
   "version": "3.11.4"
  }
 },
 "nbformat": 4,
 "nbformat_minor": 5
}
