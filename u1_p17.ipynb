{
 "cells": [
  {
   "cell_type": "code",
   "execution_count": 24,
   "id": "80969286-7088-4c15-8655-54172ca57386",
   "metadata": {},
   "outputs": [
    {
     "name": "stdin",
     "output_type": "stream",
     "text": [
      "Enter Element you want to search 22\n"
     ]
    },
    {
     "name": "stdout",
     "output_type": "stream",
     "text": [
      "22  Element is not Found\n"
     ]
    }
   ],
   "source": [
    "li=[10,20,30,40,50,60,70,80,90,100]\n",
    "low=0\n",
    "high=9\n",
    "se=int(input(\"Enter Element you want to search\"))\n",
    "while(low<=high):\n",
    "    mid=int((low+high)/2)\n",
    "    if(li[mid]>se):\n",
    "        high=mid-1\n",
    "    elif(li[mid]<se):\n",
    "        low=mid+1\n",
    "    else:\n",
    "        print(se,\" Element is Found\")\n",
    "        break\n",
    "else:\n",
    "     print(se,\" Element is not Found\")"
   ]
  },
  {
   "cell_type": "code",
   "execution_count": null,
   "id": "311a6057-9dee-4db6-ac37-c8d5a183237e",
   "metadata": {},
   "outputs": [],
   "source": []
  },
  {
   "cell_type": "code",
   "execution_count": null,
   "id": "3997f05a-8195-446d-bcae-e1b8150fa0aa",
   "metadata": {},
   "outputs": [],
   "source": []
  },
  {
   "cell_type": "code",
   "execution_count": null,
   "id": "bbbd0fa1-3da6-4e14-bb23-a1b7a9a1c223",
   "metadata": {},
   "outputs": [],
   "source": []
  },
  {
   "cell_type": "code",
   "execution_count": null,
   "id": "66936975-f9b1-44d0-824e-23466b3ea9ad",
   "metadata": {},
   "outputs": [],
   "source": []
  },
  {
   "cell_type": "code",
   "execution_count": null,
   "id": "5b4f7f85-2dce-433c-a68f-74133b08b0f1",
   "metadata": {},
   "outputs": [],
   "source": []
  },
  {
   "cell_type": "code",
   "execution_count": null,
   "id": "8bb16a02-a267-4ac5-9eee-ac34fb052731",
   "metadata": {},
   "outputs": [],
   "source": []
  },
  {
   "cell_type": "code",
   "execution_count": null,
   "id": "909eb167-0202-4821-a063-1097d3605b28",
   "metadata": {},
   "outputs": [],
   "source": []
  },
  {
   "cell_type": "code",
   "execution_count": null,
   "id": "06affce7-430f-477b-a1b1-f1220e022bf5",
   "metadata": {},
   "outputs": [],
   "source": []
  },
  {
   "cell_type": "code",
   "execution_count": null,
   "id": "8896b8de-6834-418a-87e1-682d5a2548cc",
   "metadata": {},
   "outputs": [],
   "source": []
  },
  {
   "cell_type": "code",
   "execution_count": null,
   "id": "3b2a9c96-6a5c-4817-a23c-3cb92290519a",
   "metadata": {},
   "outputs": [],
   "source": []
  },
  {
   "cell_type": "code",
   "execution_count": null,
   "id": "5778c8e1-9352-4399-89bf-09843282721e",
   "metadata": {},
   "outputs": [],
   "source": []
  },
  {
   "cell_type": "code",
   "execution_count": null,
   "id": "d762000a-e346-48b1-bf77-5f25ba2834b9",
   "metadata": {},
   "outputs": [],
   "source": []
  },
  {
   "cell_type": "code",
   "execution_count": null,
   "id": "b7932cc5-6fef-43e1-ae7c-1d134dbc2dfd",
   "metadata": {},
   "outputs": [],
   "source": []
  },
  {
   "cell_type": "code",
   "execution_count": null,
   "id": "84c6b980-b5ba-409c-a673-659563384ca1",
   "metadata": {},
   "outputs": [],
   "source": []
  },
  {
   "cell_type": "code",
   "execution_count": null,
   "id": "fa4246f2-ae7a-406c-8070-4754b17d6677",
   "metadata": {},
   "outputs": [],
   "source": []
  },
  {
   "cell_type": "code",
   "execution_count": null,
   "id": "e4ec167e-8c61-4ee3-9657-c4b1344cede0",
   "metadata": {},
   "outputs": [],
   "source": []
  },
  {
   "cell_type": "code",
   "execution_count": null,
   "id": "45205d27-0bc2-4c13-8044-ec92a46fac25",
   "metadata": {},
   "outputs": [],
   "source": []
  },
  {
   "cell_type": "code",
   "execution_count": null,
   "id": "b92d6ba5-6516-4119-9004-2ae15cd33a6b",
   "metadata": {},
   "outputs": [],
   "source": []
  },
  {
   "cell_type": "code",
   "execution_count": null,
   "id": "e243c4b7-073b-4436-bc5c-9858053424ed",
   "metadata": {},
   "outputs": [],
   "source": []
  },
  {
   "cell_type": "code",
   "execution_count": null,
   "id": "4d12ba29-8f84-409e-985d-50b4c8124500",
   "metadata": {},
   "outputs": [],
   "source": []
  },
  {
   "cell_type": "code",
   "execution_count": null,
   "id": "4528b6b6-8e8d-4ced-bc1d-260381b86f69",
   "metadata": {},
   "outputs": [],
   "source": []
  },
  {
   "cell_type": "code",
   "execution_count": null,
   "id": "e098e661-f5a4-4335-b3a9-b4d1be87ad90",
   "metadata": {},
   "outputs": [],
   "source": []
  },
  {
   "cell_type": "code",
   "execution_count": null,
   "id": "d5b14db8-664d-4f64-810a-90aa34c45ea2",
   "metadata": {},
   "outputs": [],
   "source": []
  },
  {
   "cell_type": "code",
   "execution_count": null,
   "id": "850f0100-76db-4f3a-808b-6d0ba9864b1f",
   "metadata": {},
   "outputs": [],
   "source": []
  }
 ],
 "metadata": {
  "kernelspec": {
   "display_name": "Python 3 (ipykernel)",
   "language": "python",
   "name": "python3"
  },
  "language_info": {
   "codemirror_mode": {
    "name": "ipython",
    "version": 3
   },
   "file_extension": ".py",
   "mimetype": "text/x-python",
   "name": "python",
   "nbconvert_exporter": "python",
   "pygments_lexer": "ipython3",
   "version": "3.11.4"
  }
 },
 "nbformat": 4,
 "nbformat_minor": 5
}
