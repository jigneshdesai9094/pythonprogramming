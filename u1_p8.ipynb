{
 "cells": [
  {
   "cell_type": "code",
   "execution_count": 2,
   "id": "e31eb11c-67e7-4461-8ffe-3df50f59a39d",
   "metadata": {},
   "outputs": [
    {
     "name": "stdin",
     "output_type": "stream",
     "text": [
      "How Many Students :  5\n",
      "Enter 1 Student Marks :  11\n",
      "Enter 2 Student Marks :  12\n",
      "Enter 3 Student Marks :  13\n",
      "Enter 4 Student Marks :  14\n",
      "Enter 5 Student Marks :  90\n"
     ]
    },
    {
     "name": "stdout",
     "output_type": "stream",
     "text": [
      "Percantage of Passing Students 20.0%\n"
     ]
    }
   ],
   "source": [
    "\n",
    "students=int(input(\"How Many Students : \"))\n",
    "p=0\n",
    "i=1\n",
    "while(i<=students):\n",
    "    m=int(input(\"Enter {} Student Marks : \".format(i)))\n",
    "    if(m>100 or m<0):\n",
    "        print(\"please,enter valid student marks\")\n",
    "        continue\n",
    "    if(m>=40):\n",
    "        p+=1\n",
    "    i+=1    \n",
    "print(\"Percantage of Passing Students {}%\".format((p*100)/students))\n",
    "    "
   ]
  },
  {
   "cell_type": "code",
   "execution_count": null,
   "id": "c91c8bf6-b0fc-48e6-a56d-1e5d1a25bb88",
   "metadata": {},
   "outputs": [],
   "source": []
  },
  {
   "cell_type": "code",
   "execution_count": null,
   "id": "ac8d657d-7081-4f23-8fc8-bf05dffd792e",
   "metadata": {},
   "outputs": [],
   "source": []
  }
 ],
 "metadata": {
  "kernelspec": {
   "display_name": "Python 3 (ipykernel)",
   "language": "python",
   "name": "python3"
  },
  "language_info": {
   "codemirror_mode": {
    "name": "ipython",
    "version": 3
   },
   "file_extension": ".py",
   "mimetype": "text/x-python",
   "name": "python",
   "nbconvert_exporter": "python",
   "pygments_lexer": "ipython3",
   "version": "3.11.4"
  }
 },
 "nbformat": 4,
 "nbformat_minor": 5
}
