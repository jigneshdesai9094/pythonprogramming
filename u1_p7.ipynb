{
 "cells": [
  {
   "cell_type": "code",
   "execution_count": 2,
   "id": "917bb2ef-1070-4e92-89dc-ecb7178a6b6f",
   "metadata": {},
   "outputs": [
    {
     "name": "stdin",
     "output_type": "stream",
     "text": [
      "Enter Any Suit with Card :  diamond 7\n"
     ]
    },
    {
     "name": "stdout",
     "output_type": "stream",
     "text": [
      "Card is Lucky\n"
     ]
    }
   ],
   "source": [
    "c=input(\"Enter Any Suit with Card : \").lower()\n",
    "c=c.strip()\n",
    "suit,card=c.split()\n",
    "#print(suit,\" \",card)\n",
    "if(suit=='diamond' or (suit=='spade' and card=='ace') or card=='king'):\n",
    "  print(\"Card is Lucky\")\n",
    "else:\n",
    "  print(\"Please,try next time\")"
   ]
  },
  {
   "cell_type": "code",
   "execution_count": null,
   "id": "a385029c-0f4b-42f6-b444-fd76fdd30b33",
   "metadata": {},
   "outputs": [],
   "source": []
  },
  {
   "cell_type": "code",
   "execution_count": null,
   "id": "88b79e08-21d2-45aa-9033-40a09600169a",
   "metadata": {},
   "outputs": [],
   "source": []
  }
 ],
 "metadata": {
  "kernelspec": {
   "display_name": "Python 3 (ipykernel)",
   "language": "python",
   "name": "python3"
  },
  "language_info": {
   "codemirror_mode": {
    "name": "ipython",
    "version": 3
   },
   "file_extension": ".py",
   "mimetype": "text/x-python",
   "name": "python",
   "nbconvert_exporter": "python",
   "pygments_lexer": "ipython3",
   "version": "3.11.4"
  }
 },
 "nbformat": 4,
 "nbformat_minor": 5
}
