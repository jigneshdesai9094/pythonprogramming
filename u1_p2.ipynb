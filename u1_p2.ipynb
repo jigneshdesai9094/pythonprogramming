{
 "cells": [
  {
   "cell_type": "code",
   "execution_count": 1,
   "id": "2cc69897-c98b-40a2-93b8-667e7b51574f",
   "metadata": {},
   "outputs": [],
   "source": [
    "#find the sum of the first n natural number"
   ]
  },
  {
   "cell_type": "code",
   "execution_count": 1,
   "id": "bc086100-8682-4e84-92bf-2b1cd45c54af",
   "metadata": {},
   "outputs": [
    {
     "name": "stdin",
     "output_type": "stream",
     "text": [
      "enter any natural number :  5\n"
     ]
    },
    {
     "name": "stdout",
     "output_type": "stream",
     "text": [
      "First Way : 5 natural number sum is : 15\n",
      "Second Way : 5 natural number sum is: 15\n"
     ]
    }
   ],
   "source": [
    "term=int(input(\"enter any natural number : \"))\n",
    "sum=0\n",
    "for i in range(1,term+1):\n",
    "    sum=sum+i\n",
    "    \n",
    "print(\"First Way : {0} natural number sum is : {1}\".format(term,sum))\n",
    "sum=int(term*(term+1)/2)\n",
    "print(\"Second Way : {0} natural number sum is: {1}\".format(term,sum))"
   ]
  },
  {
   "cell_type": "code",
   "execution_count": null,
   "id": "88bd7caa-8bad-4893-95f2-ab83e9d2b65c",
   "metadata": {},
   "outputs": [],
   "source": []
  },
  {
   "cell_type": "code",
   "execution_count": null,
   "id": "d6ee443a-6dca-46ec-94d8-ea29afe03973",
   "metadata": {},
   "outputs": [],
   "source": []
  },
  {
   "cell_type": "code",
   "execution_count": null,
   "id": "23ccc27d-5c9c-403d-a1bd-c5b1e7743820",
   "metadata": {},
   "outputs": [],
   "source": []
  },
  {
   "cell_type": "code",
   "execution_count": null,
   "id": "78c3c831-9c17-4d20-914a-fef792e606fe",
   "metadata": {},
   "outputs": [],
   "source": []
  },
  {
   "cell_type": "code",
   "execution_count": null,
   "id": "277b934a-1932-4826-bcd2-364f206020a2",
   "metadata": {},
   "outputs": [],
   "source": []
  },
  {
   "cell_type": "code",
   "execution_count": null,
   "id": "fca009b4-8644-4e37-8126-6033a44c5abc",
   "metadata": {},
   "outputs": [],
   "source": []
  },
  {
   "cell_type": "code",
   "execution_count": null,
   "id": "f69eba2e-d97f-4234-b4b2-4342f2f3f1ef",
   "metadata": {},
   "outputs": [],
   "source": []
  },
  {
   "cell_type": "code",
   "execution_count": null,
   "id": "1828e65c-d4bc-4039-a979-afd366df62b3",
   "metadata": {},
   "outputs": [],
   "source": []
  }
 ],
 "metadata": {
  "kernelspec": {
   "display_name": "Python 3 (ipykernel)",
   "language": "python",
   "name": "python3"
  },
  "language_info": {
   "codemirror_mode": {
    "name": "ipython",
    "version": 3
   },
   "file_extension": ".py",
   "mimetype": "text/x-python",
   "name": "python",
   "nbconvert_exporter": "python",
   "pygments_lexer": "ipython3",
   "version": "3.11.4"
  }
 },
 "nbformat": 4,
 "nbformat_minor": 5
}
