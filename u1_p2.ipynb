{
 "cells": [
  {
   "cell_type": "code",
   "execution_count": 1,
   "id": "2cc69897-c98b-40a2-93b8-667e7b51574f",
   "metadata": {},
   "outputs": [],
   "source": [
    "#find the sum of the first n natural number"
   ]
  },
  {
   "cell_type": "code",
   "execution_count": 2,
   "id": "bc086100-8682-4e84-92bf-2b1cd45c54af",
   "metadata": {},
   "outputs": [
    {
     "name": "stdin",
     "output_type": "stream",
     "text": [
      "enter number which define how many number sum 5\n"
     ]
    },
    {
     "name": "stdout",
     "output_type": "stream",
     "text": [
      "5 natural number sum is : 15\n"
     ]
    }
   ],
   "source": [
    "term=int(input(\"enter any natural number : \"))\n",
    "sum=0\n",
    "for i in range(1,term+1):\n",
    "    sum=sum+i\n",
    "print(\"{0} natural number sum is : {1}\".format(term,sum))"
   ]
  },
  {
   "cell_type": "code",
   "execution_count": null,
   "id": "1828e65c-d4bc-4039-a979-afd366df62b3",
   "metadata": {},
   "outputs": [],
   "source": []
  }
 ],
 "metadata": {
  "kernelspec": {
   "display_name": "Python 3 (ipykernel)",
   "language": "python",
   "name": "python3"
  },
  "language_info": {
   "codemirror_mode": {
    "name": "ipython",
    "version": 3
   },
   "file_extension": ".py",
   "mimetype": "text/x-python",
   "name": "python",
   "nbconvert_exporter": "python",
   "pygments_lexer": "ipython3",
   "version": "3.11.4"
  }
 },
 "nbformat": 4,
 "nbformat_minor": 5
}
