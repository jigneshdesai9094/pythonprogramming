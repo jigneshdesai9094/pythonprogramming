{
 "cells": [
  {
   "cell_type": "code",
   "execution_count": 11,
   "id": "c0bb57f1-dab1-4547-aab7-e6fed6d0fecc",
   "metadata": {},
   "outputs": [
    {
     "name": "stdin",
     "output_type": "stream",
     "text": [
      "Enter any positive integer 91\n"
     ]
    },
    {
     "name": "stdout",
     "output_type": "stream",
     "text": [
      "91  number is not Prime\n"
     ]
    }
   ],
   "source": [
    "no=int(input(\"Enter any positive integer\"))\n",
    "for i in range(2,int(no/2+1)):\n",
    "    if(no%i==0):\n",
    "        break\n",
    "if(i==int(no/2)):\n",
    "    print(no,\" number is Prime\")\n",
    "else:\n",
    "    print(no,\" number is not Prime\")"
   ]
  },
  {
   "cell_type": "code",
   "execution_count": null,
   "id": "4f9a2818-0493-4857-8eee-603551d4d3fa",
   "metadata": {},
   "outputs": [],
   "source": []
  },
  {
   "cell_type": "code",
   "execution_count": null,
   "id": "318dcbab-2c0c-4738-8d6a-ac370f001459",
   "metadata": {},
   "outputs": [],
   "source": []
  }
 ],
 "metadata": {
  "kernelspec": {
   "display_name": "Python 3 (ipykernel)",
   "language": "python",
   "name": "python3"
  },
  "language_info": {
   "codemirror_mode": {
    "name": "ipython",
    "version": 3
   },
   "file_extension": ".py",
   "mimetype": "text/x-python",
   "name": "python",
   "nbconvert_exporter": "python",
   "pygments_lexer": "ipython3",
   "version": "3.11.4"
  }
 },
 "nbformat": 4,
 "nbformat_minor": 5
}
