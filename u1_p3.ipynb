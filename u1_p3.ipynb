{
 "cells": [
  {
   "cell_type": "code",
   "execution_count": 1,
   "id": "f618ebaf-d685-441e-be65-6a8cabe7fe4f",
   "metadata": {},
   "outputs": [
    {
     "name": "stdin",
     "output_type": "stream",
     "text": [
      "enter format of roll number  CS24M24\n"
     ]
    },
    {
     "name": "stdout",
     "output_type": "stream",
     "text": [
      "Branch : Computer Science , Year : 2024 , Degree : MCA , RollNo : 24\n"
     ]
    }
   ],
   "source": [
    "inp = input(\"enter format of roll number \")\n",
    "inp=inp.upper()\n",
    "branch=inp[0:2]\n",
    "year=inp[2:4]\n",
    "degree=inp[4:5]\n",
    "cp=inp[5:]\n",
    "if(branch==\"CS\"):\n",
    "    branch=\"Computer Science\"\n",
    "    if(degree==\"M\"):\n",
    "        degree=\"MCA\"\n",
    "    elif(degree==\"B\"):\n",
    "        degree=\"BCA\"\n",
    "    else:\n",
    "        degree=\"PGDCA\"\n",
    "elif(branch==\"ME\"):\n",
    "    branch=\"Mechanical engineering\"\n",
    "    if(degree==\"B\"):\n",
    "        degree=\"BME\"\n",
    "    else:\n",
    "        degree=\"MME\"\n",
    "print(\"Branch : {} , Year : 20{} , Degree : {} , RollNo : {}\".format(branch,year,degree,cp))"
   ]
  },
  {
   "cell_type": "code",
   "execution_count": null,
   "id": "09814e27-2e43-4ce0-9269-8501a4642cd2",
   "metadata": {},
   "outputs": [],
   "source": []
  },
  {
   "cell_type": "code",
   "execution_count": null,
   "id": "6be2e652-4210-426c-800f-3310d00a24fc",
   "metadata": {},
   "outputs": [],
   "source": []
  }
 ],
 "metadata": {
  "kernelspec": {
   "display_name": "Python 3 (ipykernel)",
   "language": "python",
   "name": "python3"
  },
  "language_info": {
   "codemirror_mode": {
    "name": "ipython",
    "version": 3
   },
   "file_extension": ".py",
   "mimetype": "text/x-python",
   "name": "python",
   "nbconvert_exporter": "python",
   "pygments_lexer": "ipython3",
   "version": "3.11.4"
  }
 },
 "nbformat": 4,
 "nbformat_minor": 5
}
