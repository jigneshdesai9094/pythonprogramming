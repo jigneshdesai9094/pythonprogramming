{
 "cells": [
  {
   "cell_type": "code",
   "execution_count": 4,
   "id": "1d913f21-6e8e-4909-bab5-1655eccd0c0a",
   "metadata": {},
   "outputs": [
    {
     "name": "stdin",
     "output_type": "stream",
     "text": [
      "Enter your name : Jignesh Desai\n"
     ]
    },
    {
     "name": "stdout",
     "output_type": "stream",
     "text": [
      "J sigesneDiha\n"
     ]
    }
   ],
   "source": [
    "import random\n",
    "indexlist=[]\n",
    "str=input(\"Enter your name :\")\n",
    "c=len(str)-1;\n",
    "while(c>=0):\n",
    "  num = int(random.random()*len(str))\n",
    "  if(not(num in indexlist)):\n",
    "    t=str[c]\n",
    "    str=str[0:c]+str[num]+str[c+1:]\n",
    "   # print(str,end=\"  \") \n",
    "    str=str[0:num]+t+str[num+1:]\n",
    "   # print(str,\"\\n\")\n",
    "    indexlist.append(num)\n",
    "    c-=1\n",
    "\n",
    "print(str)"
   ]
  },
  {
   "cell_type": "code",
   "execution_count": null,
   "id": "198c362a-349e-4a7f-a6a6-d392a3703e35",
   "metadata": {},
   "outputs": [],
   "source": []
  },
  {
   "cell_type": "code",
   "execution_count": null,
   "id": "f01c99c5-7bbe-4c1b-8816-af305e7e5dfd",
   "metadata": {},
   "outputs": [],
   "source": []
  },
  {
   "cell_type": "code",
   "execution_count": null,
   "id": "2c9fbade-3162-48c4-a618-243137dc3d18",
   "metadata": {},
   "outputs": [],
   "source": []
  },
  {
   "cell_type": "code",
   "execution_count": null,
   "id": "5c38ba5b-1b7d-48aa-9010-499857dcd13c",
   "metadata": {},
   "outputs": [],
   "source": []
  },
  {
   "cell_type": "code",
   "execution_count": null,
   "id": "80da12ce-22f0-449d-ac8a-d241cf0ddf8a",
   "metadata": {},
   "outputs": [],
   "source": []
  }
 ],
 "metadata": {
  "kernelspec": {
   "display_name": "Python 3 (ipykernel)",
   "language": "python",
   "name": "python3"
  },
  "language_info": {
   "codemirror_mode": {
    "name": "ipython",
    "version": 3
   },
   "file_extension": ".py",
   "mimetype": "text/x-python",
   "name": "python",
   "nbconvert_exporter": "python",
   "pygments_lexer": "ipython3",
   "version": "3.11.4"
  }
 },
 "nbformat": 4,
 "nbformat_minor": 5
}
