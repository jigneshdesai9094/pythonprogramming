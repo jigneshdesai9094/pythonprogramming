{
 "cells": [
  {
   "cell_type": "code",
   "execution_count": 1,
   "id": "75f7940e-3476-4619-ad2e-c3c3ddcbfc04",
   "metadata": {},
   "outputs": [
    {
     "name": "stdout",
     "output_type": "stream",
     "text": [
      "neither king nor spade probability is :  0.6923076923076923\n"
     ]
    }
   ],
   "source": [
    "tcard=52\n",
    "tking=4\n",
    "tspade=12\n",
    "check=tcard-(tking+tspade)\n",
    "print(\"neither king nor spade probability is : \",check/tcard)"
   ]
  },
  {
   "cell_type": "code",
   "execution_count": null,
   "id": "666505cd-3088-4c85-a1e5-690fdf0c4c25",
   "metadata": {},
   "outputs": [],
   "source": []
  },
  {
   "cell_type": "code",
   "execution_count": null,
   "id": "95ee8c8a-1223-4e70-9559-6a1b9a4e7f6b",
   "metadata": {},
   "outputs": [],
   "source": []
  }
 ],
 "metadata": {
  "kernelspec": {
   "display_name": "Python 3 (ipykernel)",
   "language": "python",
   "name": "python3"
  },
  "language_info": {
   "codemirror_mode": {
    "name": "ipython",
    "version": 3
   },
   "file_extension": ".py",
   "mimetype": "text/x-python",
   "name": "python",
   "nbconvert_exporter": "python",
   "pygments_lexer": "ipython3",
   "version": "3.11.4"
  }
 },
 "nbformat": 4,
 "nbformat_minor": 5
}
