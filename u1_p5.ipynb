{
 "cells": [
  {
   "cell_type": "code",
   "execution_count": 2,
   "id": "3bbffaa8-eac1-4a15-b9a2-ff5ff1668036",
   "metadata": {},
   "outputs": [
    {
     "name": "stdin",
     "output_type": "stream",
     "text": [
      "Enter First Person Blood a+\n",
      "Enter Second Person Blood a+\n"
     ]
    },
    {
     "name": "stdout",
     "output_type": "stream",
     "text": [
      "A+   A+  is match\n"
     ]
    }
   ],
   "source": [
    "bool1=input(\"Enter First Person Blood\").upper()\n",
    "bool2=input(\"Enter Second Person Blood\").upper()\n",
    "if(bool1==bool2):\n",
    "    print(bool1,\" \",bool2,\" blood is match\")\n",
    "else:\n",
    "    print(\"Blood is not match\")"
   ]
  },
  {
   "cell_type": "code",
   "execution_count": null,
   "id": "105a6375-2243-4f70-8049-9020b29bcf0f",
   "metadata": {},
   "outputs": [],
   "source": []
  },
  {
   "cell_type": "code",
   "execution_count": null,
   "id": "2e40bd2b-f248-4705-ac28-3966d36a32bf",
   "metadata": {},
   "outputs": [],
   "source": []
  }
 ],
 "metadata": {
  "kernelspec": {
   "display_name": "Python 3 (ipykernel)",
   "language": "python",
   "name": "python3"
  },
  "language_info": {
   "codemirror_mode": {
    "name": "ipython",
    "version": 3
   },
   "file_extension": ".py",
   "mimetype": "text/x-python",
   "name": "python",
   "nbconvert_exporter": "python",
   "pygments_lexer": "ipython3",
   "version": "3.11.4"
  }
 },
 "nbformat": 4,
 "nbformat_minor": 5
}
