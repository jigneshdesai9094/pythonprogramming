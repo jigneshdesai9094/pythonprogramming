{
 "cells": [
  {
   "cell_type": "code",
   "execution_count": 2,
   "id": "df807cb9-d041-4ef5-9d38-db00a7b22154",
   "metadata": {},
   "outputs": [
    {
     "name": "stdout",
     "output_type": "stream",
     "text": [
      "Enter Birthdate DD-MM-YYYY format\n"
     ]
    },
    {
     "name": "stdin",
     "output_type": "stream",
     "text": [
      "Enter day : 40\n"
     ]
    },
    {
     "name": "stdout",
     "output_type": "stream",
     "text": [
      "Please Enter Valid Day :\n"
     ]
    },
    {
     "name": "stdin",
     "output_type": "stream",
     "text": [
      "Enter day : 28\n"
     ]
    },
    {
     "name": "stdout",
     "output_type": "stream",
     "text": [
      " day  28\n"
     ]
    },
    {
     "name": "stdin",
     "output_type": "stream",
     "text": [
      "Enter Month 2\n",
      "Enter Year 1014\n"
     ]
    },
    {
     "name": "stdout",
     "output_type": "stream",
     "text": [
      "BIRTHDATE : 28-February-1014\n"
     ]
    }
   ],
   "source": [
    "\n",
    "def takeday():\n",
    "    while(True):\n",
    "     d=input(\"Enter day :\")\n",
    "     if(len(d)==1):\n",
    "        d=\"0\"+d\n",
    "        return d\n",
    "     elif(int(d)>31 or int(d)<1):\n",
    "       print(\"Please Enter Valid Day :\")\n",
    "     else:\n",
    "        return d\n",
    "months={\n",
    "1:\"January\",\n",
    "2: \"February\",\n",
    "3: \"March\",\n",
    "4: \"April\",\n",
    "5: \"May\",\n",
    "6:\"June\",\n",
    "7: \"July\",\n",
    "8: \"August\",\n",
    "9: \"September\",\n",
    "10:\"October\",\n",
    "11 :\"November\",\n",
    "12:\"December\"\n",
    "}\n",
    "print(\"Enter Birthdate DD-MM-YYYY format\")\n",
    "d=takeday()\n",
    "#print(\" day \",d)\n",
    "while(True):\n",
    "    m=int(input(\"Enter Month\"))\n",
    "    d1=int(d)\n",
    "    #print((m==1 or m==3 or m==5 or m==7 or m==8 or m==10 or m==12)and d1>31)\n",
    "   # print(m==2 and d1>29)\n",
    "   # print((m==4 or m==6 or m==9 or m==11) and d1>30)\n",
    "    if(m>12 or m<1):\n",
    "      print(\"Please,Enter valid Month : \")\n",
    "    elif(((m==1 or m==3 or m==5 or m==7 or m==8 or m==10 or m==12)and d1>31) or (m==2 and d1>29) or ((m==4 or m==6 or m==9 or m==11) and d1>30 )):\n",
    "      print(\"Invalid day, please enter valid day\")\n",
    "      d=takeday()\n",
    "      d1=int(d)\n",
    "    else:\n",
    "        break\n",
    "y=input(\"Enter Year\")\n",
    "for i in months.keys():\n",
    "    if(m==i):\n",
    "      print(\"BIRTHDATE : {}-{}-{}\".format(d,months[i],y))"
   ]
  },
  {
   "cell_type": "code",
   "execution_count": null,
   "id": "3da32191-cc42-411b-bb9e-700d4dbef544",
   "metadata": {},
   "outputs": [],
   "source": []
  },
  {
   "cell_type": "code",
   "execution_count": null,
   "id": "9e5b3287-b364-4223-bae1-3527505f1cfb",
   "metadata": {},
   "outputs": [],
   "source": []
  }
 ],
 "metadata": {
  "kernelspec": {
   "display_name": "Python 3 (ipykernel)",
   "language": "python",
   "name": "python3"
  },
  "language_info": {
   "codemirror_mode": {
    "name": "ipython",
    "version": 3
   },
   "file_extension": ".py",
   "mimetype": "text/x-python",
   "name": "python",
   "nbconvert_exporter": "python",
   "pygments_lexer": "ipython3",
   "version": "3.11.4"
  }
 },
 "nbformat": 4,
 "nbformat_minor": 5
}
