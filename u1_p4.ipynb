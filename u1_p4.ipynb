{
 "cells": [
  {
   "cell_type": "code",
   "execution_count": null,
   "id": "1d913f21-6e8e-4909-bab5-1655eccd0c0a",
   "metadata": {},
   "outputs": [],
   "source": [
    "name=input(\"Enter Your Name : \")\n",
    "s=name\n",
    "print(\"s =\",s);\n",
    "t=name[0]\n",
    "print(\"t only=\",t,name[0],name[3]);\n",
    "name1=name.replace(name[0],name[3]) # name[i]=J and name[l+i]=n\n",
    "print(\"name1=\",name1,name1[3],t) #J replace with n\n",
    "name2=name1.replace(name1[3],t) # name[l+i]=n replace with t=J\n",
    "#print(\"name[i] = \",name2[i])\n",
    "#print(\"name[l+i]=\",name2[l+i])\n",
    "print(\"name2 = \",name2)\n",
    "\n",
    "#print(\"{0} shuffle is : {1}\".format(s,name2))"
   ]
  },
  {
   "cell_type": "code",
   "execution_count": null,
   "id": "22f4de04-92c5-4a42-8328-f47821a5ef21",
   "metadata": {},
   "outputs": [],
   "source": []
  },
  {
   "cell_type": "code",
   "execution_count": null,
   "id": "42a4e4b3-4084-45d2-967e-8e3a94d51e37",
   "metadata": {},
   "outputs": [],
   "source": []
  },
  {
   "cell_type": "code",
   "execution_count": null,
   "id": "0a9d1393-e22c-4cc4-b7f7-908e9295ac5e",
   "metadata": {},
   "outputs": [],
   "source": []
  },
  {
   "cell_type": "code",
   "execution_count": null,
   "id": "57073cc4-c919-4ba2-87a1-ffe4c573d6d6",
   "metadata": {},
   "outputs": [],
   "source": []
  },
  {
   "cell_type": "code",
   "execution_count": null,
   "id": "bd3e8eb1-da1d-42d9-82ab-9f9916c0b57e",
   "metadata": {},
   "outputs": [],
   "source": []
  },
  {
   "cell_type": "code",
   "execution_count": null,
   "id": "489abd30-c4c8-4f8b-a7f2-5b0f98b3680f",
   "metadata": {},
   "outputs": [],
   "source": []
  },
  {
   "cell_type": "code",
   "execution_count": null,
   "id": "cb47e73f-a978-4e2f-abdd-9fc890ce670b",
   "metadata": {},
   "outputs": [],
   "source": []
  },
  {
   "cell_type": "code",
   "execution_count": null,
   "id": "4f587d88-7d50-4e0e-bc4e-255d830c3e56",
   "metadata": {},
   "outputs": [],
   "source": []
  },
  {
   "cell_type": "code",
   "execution_count": null,
   "id": "41439c52-12f3-4b93-979b-0b44837663eb",
   "metadata": {},
   "outputs": [],
   "source": []
  },
  {
   "cell_type": "code",
   "execution_count": null,
   "id": "fed6334c-fc0e-4c78-9bfe-6d1aea1b14b3",
   "metadata": {},
   "outputs": [],
   "source": []
  },
  {
   "cell_type": "code",
   "execution_count": null,
   "id": "bce7a083-832a-418f-925f-0d6f402588ea",
   "metadata": {},
   "outputs": [],
   "source": []
  },
  {
   "cell_type": "code",
   "execution_count": null,
   "id": "3645fd8c-0cc9-47bf-b46d-a29800c304d6",
   "metadata": {},
   "outputs": [],
   "source": []
  },
  {
   "cell_type": "code",
   "execution_count": null,
   "id": "340435e0-aa7b-411c-96f3-7430959463da",
   "metadata": {},
   "outputs": [],
   "source": []
  },
  {
   "cell_type": "code",
   "execution_count": null,
   "id": "fd727410-016b-421f-baac-e988a9528721",
   "metadata": {},
   "outputs": [],
   "source": []
  },
  {
   "cell_type": "code",
   "execution_count": null,
   "id": "45be6afc-06d1-4bac-8d1a-b8050c89c0a9",
   "metadata": {},
   "outputs": [],
   "source": []
  },
  {
   "cell_type": "code",
   "execution_count": null,
   "id": "a5bd6120-1e8d-423d-91ed-e58f564b30fb",
   "metadata": {},
   "outputs": [],
   "source": []
  },
  {
   "cell_type": "code",
   "execution_count": null,
   "id": "60709d1d-5efc-4fdd-a799-8380a975e444",
   "metadata": {},
   "outputs": [],
   "source": []
  },
  {
   "cell_type": "code",
   "execution_count": null,
   "id": "819c7128-567d-4d8a-bd28-5cda9d87ca9a",
   "metadata": {},
   "outputs": [],
   "source": []
  },
  {
   "cell_type": "code",
   "execution_count": null,
   "id": "03df904e-2a97-4239-b6e1-00b338082ef6",
   "metadata": {},
   "outputs": [],
   "source": []
  },
  {
   "cell_type": "code",
   "execution_count": null,
   "id": "bf9ca5a9-beab-4a11-8633-d3027d3aa491",
   "metadata": {},
   "outputs": [],
   "source": []
  },
  {
   "cell_type": "code",
   "execution_count": null,
   "id": "33190f1b-75cd-4e8e-8af4-fb647dbb7a4b",
   "metadata": {},
   "outputs": [],
   "source": []
  },
  {
   "cell_type": "code",
   "execution_count": null,
   "id": "d85ad805-e455-4be8-9ac1-13bc81ac566a",
   "metadata": {},
   "outputs": [],
   "source": []
  },
  {
   "cell_type": "code",
   "execution_count": null,
   "id": "5cf15ea8-9e58-4f66-95d7-4010047796dc",
   "metadata": {},
   "outputs": [],
   "source": []
  },
  {
   "cell_type": "code",
   "execution_count": null,
   "id": "729beaea-fb52-4196-97e1-b68fbe931453",
   "metadata": {},
   "outputs": [],
   "source": []
  },
  {
   "cell_type": "code",
   "execution_count": null,
   "id": "55b16e63-04f3-474d-9b06-9e1bb2b5b10c",
   "metadata": {},
   "outputs": [],
   "source": []
  },
  {
   "cell_type": "code",
   "execution_count": null,
   "id": "935f676a-a354-4a53-bdf1-647589ff5b39",
   "metadata": {},
   "outputs": [],
   "source": []
  }
 ],
 "metadata": {
  "kernelspec": {
   "display_name": "Python 3 (ipykernel)",
   "language": "python",
   "name": "python3"
  },
  "language_info": {
   "codemirror_mode": {
    "name": "ipython",
    "version": 3
   },
   "file_extension": ".py",
   "mimetype": "text/x-python",
   "name": "python",
   "nbconvert_exporter": "python",
   "pygments_lexer": "ipython3",
   "version": "3.11.4"
  }
 },
 "nbformat": 4,
 "nbformat_minor": 5
}
