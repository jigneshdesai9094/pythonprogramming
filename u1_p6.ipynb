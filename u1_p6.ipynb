{
 "cells": [
  {
   "cell_type": "code",
   "execution_count": 2,
   "id": "461e7c43-9aee-4657-a3cb-e0b0de9d7609",
   "metadata": {},
   "outputs": [
    {
     "name": "stdin",
     "output_type": "stream",
     "text": [
      "enter format of roll number  cs24p24\n"
     ]
    },
    {
     "name": "stdout",
     "output_type": "stream",
     "text": [
      "Student  from CS Department\n",
      "Branch : Computer Science , Year : 2024 , Degree : PGDCA , RollNo : 24\n"
     ]
    }
   ],
   "source": [
    "inp = input(\"enter format of roll number \")\n",
    "inp=inp.upper()\n",
    "branch=inp[0:2]\n",
    "year=inp[2:4]\n",
    "degree=inp[4:5]\n",
    "cp=inp[5:]\n",
    "if(branch==\"CS\"):\n",
    "    branch=\"Computer Science\"\n",
    "    if(degree==\"M\"):\n",
    "        degree=\"MCA\"\n",
    "    elif(degree==\"B\"):\n",
    "        degree=\"BCA\"\n",
    "    else:\n",
    "        degree=\"PGDCA\"\n",
    "    print(\"Student  from CS Department\")\n",
    "    print(\"Branch : {} , Year : 20{} , Degree : {} , RollNo : {}\".format(branch,year,degree,cp))\n",
    "else:\n",
    "    print(\"Student is not from CS Department\")\n"
   ]
  },
  {
   "cell_type": "code",
   "execution_count": null,
   "id": "270e4b85-fdcf-4f61-9d7c-a600d3a24f6a",
   "metadata": {},
   "outputs": [],
   "source": []
  }
 ],
 "metadata": {
  "kernelspec": {
   "display_name": "Python 3 (ipykernel)",
   "language": "python",
   "name": "python3"
  },
  "language_info": {
   "codemirror_mode": {
    "name": "ipython",
    "version": 3
   },
   "file_extension": ".py",
   "mimetype": "text/x-python",
   "name": "python",
   "nbconvert_exporter": "python",
   "pygments_lexer": "ipython3",
   "version": "3.11.4"
  }
 },
 "nbformat": 4,
 "nbformat_minor": 5
}
