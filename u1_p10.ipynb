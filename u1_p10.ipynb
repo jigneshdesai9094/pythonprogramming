{
 "cells": [
  {
   "cell_type": "code",
   "execution_count": 1,
   "id": "9aa3abca-cc16-418b-9187-ef2a177d6a1a",
   "metadata": {},
   "outputs": [
    {
     "name": "stdin",
     "output_type": "stream",
     "text": [
      "Enter Any Number 7\n"
     ]
    },
    {
     "name": "stdout",
     "output_type": "stream",
     "text": [
      "7 22 11 34 17 52 26 13 40 20 10 5 16 8 4 2 1 "
     ]
    }
   ],
   "source": [
    "no=int(input(\"Enter Any Number\"))\n",
    "print(no,end=\" \")\n",
    "while(no!=1):\n",
    "    if(no%2==0):\n",
    "        no=int(no/2)\n",
    "        print(no,end=\" \")\n",
    "    else:\n",
    "        no=(no*3)+1\n",
    "        print(no,end=\" \")"
   ]
  },
  {
   "cell_type": "code",
   "execution_count": null,
   "id": "46c13fda-1b13-4e03-a631-802060d0bec1",
   "metadata": {},
   "outputs": [],
   "source": []
  }
 ],
 "metadata": {
  "kernelspec": {
   "display_name": "Python 3 (ipykernel)",
   "language": "python",
   "name": "python3"
  },
  "language_info": {
   "codemirror_mode": {
    "name": "ipython",
    "version": 3
   },
   "file_extension": ".py",
   "mimetype": "text/x-python",
   "name": "python",
   "nbconvert_exporter": "python",
   "pygments_lexer": "ipython3",
   "version": "3.11.4"
  }
 },
 "nbformat": 4,
 "nbformat_minor": 5
}
