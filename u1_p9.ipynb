{
 "cells": [
  {
   "cell_type": "code",
   "execution_count": 3,
   "id": "ed21eeca-72fb-4418-bb45-e8bc4ac4d1d5",
   "metadata": {},
   "outputs": [
    {
     "name": "stdin",
     "output_type": "stream",
     "text": [
      "Enter Term 30\n"
     ]
    },
    {
     "name": "stdout",
     "output_type": "stream",
     "text": [
      "Fibonacci Series : \n",
      "1 1 2 3 5 8 13 21 34 55 89 144 233 377 610 987 1597 2584 4181 6765 10946 17711 28657 46368 75025 121393 196418 317811 514229 832040 "
     ]
    }
   ],
   "source": [
    "term=int(input(\"Enter Term\"))\n",
    "pre=1\n",
    "next=0\n",
    "sum=0\n",
    "print(\"Fibonacci Series : \")\n",
    "for i in range(term):\n",
    "    sum=pre+next\n",
    "    print(sum,end=\" \")\n",
    "    pre=next\n",
    "    next=sum"
   ]
  },
  {
   "cell_type": "code",
   "execution_count": null,
   "id": "f563d7a0-2a36-4439-b917-68ce08c55a60",
   "metadata": {},
   "outputs": [],
   "source": []
  },
  {
   "cell_type": "code",
   "execution_count": null,
   "id": "6819fb6b-efa3-4122-9e29-cb76defda99f",
   "metadata": {},
   "outputs": [],
   "source": []
  },
  {
   "cell_type": "code",
   "execution_count": null,
   "id": "08a050d1-d085-43fb-802b-b7ab69149e4b",
   "metadata": {},
   "outputs": [],
   "source": []
  }
 ],
 "metadata": {
  "kernelspec": {
   "display_name": "Python 3 (ipykernel)",
   "language": "python",
   "name": "python3"
  },
  "language_info": {
   "codemirror_mode": {
    "name": "ipython",
    "version": 3
   },
   "file_extension": ".py",
   "mimetype": "text/x-python",
   "name": "python",
   "nbconvert_exporter": "python",
   "pygments_lexer": "ipython3",
   "version": "3.11.4"
  }
 },
 "nbformat": 4,
 "nbformat_minor": 5
}
